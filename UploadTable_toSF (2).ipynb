{
 "cells": [
  {
   "cell_type": "markdown",
   "id": "0dbc7e2b",
   "metadata": {},
   "source": [
    "# UPLOAD TABLEs TO SF"
   ]
  },
  {
   "cell_type": "code",
   "execution_count": 2,
   "id": "5a60b397",
   "metadata": {
    "scrolled": true
   },
   "outputs": [
    {
     "name": "stderr",
     "output_type": "stream",
     "text": [
      "C:\\Users\\VYesilbas\\AppData\\Roaming\\Python\\Python38\\site-packages\\snowflake\\connector\\options.py:94: UserWarning: You have an incompatible version of 'pyarrow' installed (7.0.0), please install a version that adheres to: 'pyarrow<6.1.0,>=6.0.0; extra == \"pandas\"'\n",
      "  warn_incompatible_dep(\n"
     ]
    }
   ],
   "source": [
    "#!pip install --upgrade snowflake-connector-python\n",
    "import snowflake.connector\n",
    "import pandas as pd\n",
    "import numpy as np\n",
    "from snowflake.connector.pandas_tools import write_pandas  ## TO UPLOAD DATA INTO SF"
   ]
  },
  {
   "cell_type": "markdown",
   "id": "b9f7599b",
   "metadata": {},
   "source": [
    "You may receive the below error messages. Just install them\n",
    " - Missing optional dependency 'pyarrow'. pyarrow is required for parquet support. Use pip or conda to install pyarrow.\n",
    " - Missing optional dependency 'fastparquet'. fastparquet is required for parquet support. Use pip or conda to install fastparquet."
   ]
  },
  {
   "cell_type": "code",
   "execution_count": 1,
   "id": "a2a27ca3",
   "metadata": {},
   "outputs": [
    {
     "name": "stdout",
     "output_type": "stream",
     "text": [
      "Defaulting to user installation because normal site-packages is not writeable\n",
      "Collecting pyarrow\n",
      "  Downloading pyarrow-7.0.0-cp38-cp38-win_amd64.whl (16.1 MB)\n",
      "Requirement already satisfied: numpy>=1.16.6 in c:\\program files\\anaconda\\lib\\site-packages (from pyarrow) (1.20.1)\n",
      "Installing collected packages: pyarrow\n",
      "Successfully installed pyarrow-7.0.0\n"
     ]
    },
    {
     "name": "stderr",
     "output_type": "stream",
     "text": [
      "  WARNING: The script plasma_store.exe is installed in 'C:\\Users\\VYesilbas\\AppData\\Roaming\\Python\\Python38\\Scripts' which is not on PATH.\n",
      "  Consider adding this directory to PATH or, if you prefer to suppress this warning, use --no-warn-script-location.\n"
     ]
    }
   ],
   "source": [
    "!pip install pyarrow"
   ]
  },
  {
   "cell_type": "code",
   "execution_count": 3,
   "id": "a2405581",
   "metadata": {},
   "outputs": [
    {
     "name": "stdout",
     "output_type": "stream",
     "text": [
      "Initiating login request with your identity provider. A browser window should have opened for you to complete the login. If you can't see it, check existing browser windows, or your OS settings. Press CTRL+C to abort and try again...\n"
     ]
    }
   ],
   "source": [
    "ctx = snowflake.connector.connect(\n",
    "    user = \"VYESILBAS@HORIZONMEDIA.COM\",  ## Change your username\n",
    "    account = \"hmimtd.us-east-1\",    ## \n",
    "    authenticator= \"externalbrowser\",\n",
    "    warehouse = \"MARKETING_SCIENCE_WH\",\n",
    "    database = \"HORIZON_PROD\",\n",
    "   schema = \"ADVANCEDANALYTICS_SANDBOX\")  ## This is needed when uploading a data\\frame into SF Table\n",
    "cs = ctx.cursor()"
   ]
  },
  {
   "cell_type": "code",
   "execution_count": 19,
   "id": "7cf4818a",
   "metadata": {},
   "outputs": [],
   "source": [
    "#READ THE FILE AND SAVE IT AS A DATAFRAME --- CHANGE THE FILENAME\n",
    "file_to_uploadSF_df = pd.read_csv(\"census_pop_2019.csv\", low_memory = False)"
   ]
  },
  {
   "cell_type": "code",
   "execution_count": 20,
   "id": "8ef1b5fd",
   "metadata": {},
   "outputs": [
    {
     "data": {
      "text/html": [
       "<div>\n",
       "<style scoped>\n",
       "    .dataframe tbody tr th:only-of-type {\n",
       "        vertical-align: middle;\n",
       "    }\n",
       "\n",
       "    .dataframe tbody tr th {\n",
       "        vertical-align: top;\n",
       "    }\n",
       "\n",
       "    .dataframe thead th {\n",
       "        text-align: right;\n",
       "    }\n",
       "</style>\n",
       "<table border=\"1\" class=\"dataframe\">\n",
       "  <thead>\n",
       "    <tr style=\"text-align: right;\">\n",
       "      <th></th>\n",
       "      <th>zipcode</th>\n",
       "      <th>Total_baa</th>\n",
       "      <th>Above18_baa</th>\n",
       "      <th>Total_native</th>\n",
       "      <th>Above18_native</th>\n",
       "      <th>Total_asian</th>\n",
       "      <th>Above18_asian</th>\n",
       "      <th>Total_pacific</th>\n",
       "      <th>Above18_pacific</th>\n",
       "      <th>Total_other</th>\n",
       "      <th>...</th>\n",
       "      <th>Total_Above18</th>\n",
       "      <th>Total</th>\n",
       "      <th>pct_Above18_baa</th>\n",
       "      <th>pct_Above18_asian</th>\n",
       "      <th>pct_Above18_native</th>\n",
       "      <th>pct_Above18_two_or_more_race</th>\n",
       "      <th>pct_Above18_pacific</th>\n",
       "      <th>pct_Above18_other</th>\n",
       "      <th>pct_Above18_white</th>\n",
       "      <th>pct_Above18_hispanic</th>\n",
       "    </tr>\n",
       "  </thead>\n",
       "  <tbody>\n",
       "    <tr>\n",
       "      <th>0</th>\n",
       "      <td>601</td>\n",
       "      <td>182</td>\n",
       "      <td>135</td>\n",
       "      <td>32</td>\n",
       "      <td>32</td>\n",
       "      <td>2</td>\n",
       "      <td>2</td>\n",
       "      <td>0</td>\n",
       "      <td>0</td>\n",
       "      <td>4045</td>\n",
       "      <td>...</td>\n",
       "      <td>16862</td>\n",
       "      <td>21602</td>\n",
       "      <td>0.008006</td>\n",
       "      <td>0.000119</td>\n",
       "      <td>0.001898</td>\n",
       "      <td>0.009014</td>\n",
       "      <td>0.0</td>\n",
       "      <td>0.177678</td>\n",
       "      <td>0.003143</td>\n",
       "      <td>0.800142</td>\n",
       "    </tr>\n",
       "    <tr>\n",
       "      <th>1</th>\n",
       "      <td>602</td>\n",
       "      <td>908</td>\n",
       "      <td>791</td>\n",
       "      <td>46</td>\n",
       "      <td>28</td>\n",
       "      <td>0</td>\n",
       "      <td>0</td>\n",
       "      <td>0</td>\n",
       "      <td>0</td>\n",
       "      <td>1194</td>\n",
       "      <td>...</td>\n",
       "      <td>35111</td>\n",
       "      <td>43020</td>\n",
       "      <td>0.022529</td>\n",
       "      <td>0.000000</td>\n",
       "      <td>0.000797</td>\n",
       "      <td>0.077981</td>\n",
       "      <td>0.0</td>\n",
       "      <td>0.023525</td>\n",
       "      <td>0.066503</td>\n",
       "      <td>0.808664</td>\n",
       "    </tr>\n",
       "    <tr>\n",
       "      <th>2</th>\n",
       "      <td>603</td>\n",
       "      <td>1514</td>\n",
       "      <td>1306</td>\n",
       "      <td>68</td>\n",
       "      <td>68</td>\n",
       "      <td>108</td>\n",
       "      <td>101</td>\n",
       "      <td>11</td>\n",
       "      <td>0</td>\n",
       "      <td>7342</td>\n",
       "      <td>...</td>\n",
       "      <td>45524</td>\n",
       "      <td>56352</td>\n",
       "      <td>0.028688</td>\n",
       "      <td>0.002219</td>\n",
       "      <td>0.001494</td>\n",
       "      <td>0.013268</td>\n",
       "      <td>0.0</td>\n",
       "      <td>0.128965</td>\n",
       "      <td>0.012389</td>\n",
       "      <td>0.812978</td>\n",
       "    </tr>\n",
       "    <tr>\n",
       "      <th>3</th>\n",
       "      <td>606</td>\n",
       "      <td>92</td>\n",
       "      <td>92</td>\n",
       "      <td>17</td>\n",
       "      <td>17</td>\n",
       "      <td>0</td>\n",
       "      <td>0</td>\n",
       "      <td>0</td>\n",
       "      <td>0</td>\n",
       "      <td>3299</td>\n",
       "      <td>...</td>\n",
       "      <td>7988</td>\n",
       "      <td>9874</td>\n",
       "      <td>0.011517</td>\n",
       "      <td>0.000000</td>\n",
       "      <td>0.002128</td>\n",
       "      <td>0.009264</td>\n",
       "      <td>0.0</td>\n",
       "      <td>0.325363</td>\n",
       "      <td>0.006760</td>\n",
       "      <td>0.644967</td>\n",
       "    </tr>\n",
       "    <tr>\n",
       "      <th>4</th>\n",
       "      <td>610</td>\n",
       "      <td>461</td>\n",
       "      <td>461</td>\n",
       "      <td>0</td>\n",
       "      <td>0</td>\n",
       "      <td>0</td>\n",
       "      <td>0</td>\n",
       "      <td>1</td>\n",
       "      <td>0</td>\n",
       "      <td>2095</td>\n",
       "      <td>...</td>\n",
       "      <td>25399</td>\n",
       "      <td>31185</td>\n",
       "      <td>0.018150</td>\n",
       "      <td>0.000000</td>\n",
       "      <td>0.000000</td>\n",
       "      <td>0.072168</td>\n",
       "      <td>0.0</td>\n",
       "      <td>0.060239</td>\n",
       "      <td>0.039214</td>\n",
       "      <td>0.810229</td>\n",
       "    </tr>\n",
       "  </tbody>\n",
       "</table>\n",
       "<p>5 rows × 27 columns</p>\n",
       "</div>"
      ],
      "text/plain": [
       "   zipcode  Total_baa  Above18_baa  Total_native  Above18_native  Total_asian  \\\n",
       "0      601        182          135            32              32            2   \n",
       "1      602        908          791            46              28            0   \n",
       "2      603       1514         1306            68              68          108   \n",
       "3      606         92           92            17              17            0   \n",
       "4      610        461          461             0               0            0   \n",
       "\n",
       "   Above18_asian  Total_pacific  Above18_pacific  Total_other  ...  \\\n",
       "0              2              0                0         4045  ...   \n",
       "1              0              0                0         1194  ...   \n",
       "2            101             11                0         7342  ...   \n",
       "3              0              0                0         3299  ...   \n",
       "4              0              1                0         2095  ...   \n",
       "\n",
       "   Total_Above18  Total  pct_Above18_baa  pct_Above18_asian  \\\n",
       "0          16862  21602         0.008006           0.000119   \n",
       "1          35111  43020         0.022529           0.000000   \n",
       "2          45524  56352         0.028688           0.002219   \n",
       "3           7988   9874         0.011517           0.000000   \n",
       "4          25399  31185         0.018150           0.000000   \n",
       "\n",
       "   pct_Above18_native  pct_Above18_two_or_more_race  pct_Above18_pacific  \\\n",
       "0            0.001898                      0.009014                  0.0   \n",
       "1            0.000797                      0.077981                  0.0   \n",
       "2            0.001494                      0.013268                  0.0   \n",
       "3            0.002128                      0.009264                  0.0   \n",
       "4            0.000000                      0.072168                  0.0   \n",
       "\n",
       "   pct_Above18_other  pct_Above18_white  pct_Above18_hispanic  \n",
       "0           0.177678           0.003143              0.800142  \n",
       "1           0.023525           0.066503              0.808664  \n",
       "2           0.128965           0.012389              0.812978  \n",
       "3           0.325363           0.006760              0.644967  \n",
       "4           0.060239           0.039214              0.810229  \n",
       "\n",
       "[5 rows x 27 columns]"
      ]
     },
     "execution_count": 20,
     "metadata": {},
     "output_type": "execute_result"
    }
   ],
   "source": [
    "#check the file-datarframe that will be uploaded to SF\n",
    "file_to_uploadSF_df.head()"
   ]
  },
  {
   "cell_type": "code",
   "execution_count": 26,
   "id": "3290afaf",
   "metadata": {},
   "outputs": [],
   "source": [
    "#file_to_uploadSF_df [\"zipcode\"] = file_to_uploadSF_df.zipcode.to_string\n",
    "file_to_uploadSF_df [\"zipcode\"] = file_to_uploadSF_df [\"zipcode\"].apply(str)"
   ]
  },
  {
   "cell_type": "code",
   "execution_count": 27,
   "id": "f95c3612",
   "metadata": {},
   "outputs": [
    {
     "data": {
      "text/plain": [
       "zipcode                          object\n",
       "Total_baa                         int64\n",
       "Above18_baa                       int64\n",
       "Total_native                      int64\n",
       "Above18_native                    int64\n",
       "Total_asian                       int64\n",
       "Above18_asian                     int64\n",
       "Total_pacific                     int64\n",
       "Above18_pacific                   int64\n",
       "Total_other                       int64\n",
       "Above18_other                     int64\n",
       "Total_two_or_more_race            int64\n",
       "Above18_two_or_more_race          int64\n",
       "Total_white                       int64\n",
       "Above18_white                     int64\n",
       "Total_hispanic                    int64\n",
       "Above18_hispanic                  int64\n",
       "Total_Above18                     int64\n",
       "Total                             int64\n",
       "pct_Above18_baa                 float64\n",
       "pct_Above18_asian               float64\n",
       "pct_Above18_native              float64\n",
       "pct_Above18_two_or_more_race    float64\n",
       "pct_Above18_pacific             float64\n",
       "pct_Above18_other               float64\n",
       "pct_Above18_white               float64\n",
       "pct_Above18_hispanic            float64\n",
       "dtype: object"
      ]
     },
     "execution_count": 27,
     "metadata": {},
     "output_type": "execute_result"
    }
   ],
   "source": [
    "file_to_uploadSF_df.dtypes"
   ]
  },
  {
   "cell_type": "code",
   "execution_count": 28,
   "id": "64d7b579",
   "metadata": {},
   "outputs": [],
   "source": [
    "file_to_uploadSF_df[\"zipcode\"]=file_to_uploadSF_df[\"zipcode\"].apply(lambda x: x.zfill(5))"
   ]
  },
  {
   "cell_type": "code",
   "execution_count": 45,
   "id": "b36c3005",
   "metadata": {},
   "outputs": [
    {
     "data": {
      "text/plain": [
       "<snowflake.connector.cursor.SnowflakeCursor at 0x1a3ff809d30>"
      ]
     },
     "execution_count": 45,
     "metadata": {},
     "output_type": "execute_result"
    }
   ],
   "source": [
    "sql_query = 'CREATE or replace TABLE \"HORIZON_PROD\".\"ADVANCEDANALYTICS_SANDBOX\".\"CENSUS_2019_ABOVE_18_YEARS_OF_AGE\" \\\n",
    "(\"zipcode\"                          VARCHAR(5), \\\n",
    "\"Total_baa\"                         INTEGER, \\\n",
    "\"Above18_baa\"                       INTEGER, \\\n",
    "\"Total_native\"                      INTEGER, \\\n",
    "\"Above18_native\"                    INTEGER, \\\n",
    "\"Total_asian\"                       INTEGER, \\\n",
    "\"Above18_asian\"                     INTEGER, \\\n",
    "\"Total_pacific\"                     INTEGER, \\\n",
    "\"Above18_pacific\"                   INTEGER, \\\n",
    "\"Total_other\"                       INTEGER, \\\n",
    "\"Above18_other\"                     INTEGER, \\\n",
    "\"Total_two_or_more_race\"            INTEGER, \\\n",
    "\"Above18_two_or_more_race\"          INTEGER, \\\n",
    "\"Total_white\"                       INTEGER, \\\n",
    "\"Above18_white\"                     INTEGER, \\\n",
    "\"Total_hispanic\"                    INTEGER, \\\n",
    "\"Above18_hispanic\"                  INTEGER, \\\n",
    "\"Total_Above18\"                     INTEGER, \\\n",
    "\"Total\"                             INTEGER, \\\n",
    "\"pct_Above18_baa\"                 FLOAT, \\\n",
    "\"pct_Above18_asian\"               FLOAT, \\\n",
    "\"pct_Above18_native\"              FLOAT, \\\n",
    "\"pct_Above18_two_or_more_race\"    FLOAT, \\\n",
    "\"pct_Above18_pacific\"             FLOAT, \\\n",
    "\"pct_Above18_other\"               FLOAT, \\\n",
    "\"pct_Above18_white\"               FLOAT, \\\n",
    "\"pct_Above18_hispanic\"            FLOAT)'\n",
    "cs.execute(sql_query)"
   ]
  },
  {
   "cell_type": "code",
   "execution_count": 40,
   "id": "6e429f76",
   "metadata": {},
   "outputs": [],
   "source": [
    "#file_to_uploadSF_df.isnull().any()"
   ]
  },
  {
   "cell_type": "code",
   "execution_count": 5,
   "id": "7a799027",
   "metadata": {},
   "outputs": [
    {
     "data": {
      "text/plain": [
       "(44, 2)"
      ]
     },
     "execution_count": 5,
     "metadata": {},
     "output_type": "execute_result"
    }
   ],
   "source": [
    "# Row and column numbers of the file - dataframe\n",
    "file_to_uploadSF_df.shape"
   ]
  },
  {
   "cell_type": "code",
   "execution_count": 17,
   "id": "b26e3a2a",
   "metadata": {},
   "outputs": [
    {
     "data": {
      "text/plain": [
       "<snowflake.connector.cursor.SnowflakeCursor at 0x195b60e9f10>"
      ]
     },
     "execution_count": 17,
     "metadata": {},
     "output_type": "execute_result"
    }
   ],
   "source": [
    "# Create Table Within SF -- -- CHANGE THE TABLE_NAME\n",
    "sql_query = 'CREATE or replace TABLE \"HORIZON_PROD\".\"ADVANCEDANALYTICS_SANDBOX\".\"TABLE_NAME_IN_SF\" (\"KEYWORD\" VARCHAR (100), \"COUNT\" INTEGER)'\n",
    "cs.execute(sql_query)"
   ]
  },
  {
   "cell_type": "code",
   "execution_count": 46,
   "id": "f0047848",
   "metadata": {},
   "outputs": [],
   "source": [
    "# Load PANDAS DataFRAME into a SnoWflake table -- CHANGE THE TABLE_NAME\n",
    "success, nchunks, nrows, _ = write_pandas(ctx, file_to_uploadSF_df, 'CENSUS_2019_ABOVE_18_YEARS_OF_AGE')"
   ]
  },
  {
   "cell_type": "code",
   "execution_count": null,
   "id": "4892a07f",
   "metadata": {},
   "outputs": [],
   "source": []
  }
 ],
 "metadata": {
  "kernelspec": {
   "display_name": "Python 3",
   "language": "python",
   "name": "python3"
  },
  "language_info": {
   "codemirror_mode": {
    "name": "ipython",
    "version": 3
   },
   "file_extension": ".py",
   "mimetype": "text/x-python",
   "name": "python",
   "nbconvert_exporter": "python",
   "pygments_lexer": "ipython3",
   "version": "3.8.8"
  },
  "varInspector": {
   "cols": {
    "lenName": 16,
    "lenType": 16,
    "lenVar": 40
   },
   "kernels_config": {
    "python": {
     "delete_cmd_postfix": "",
     "delete_cmd_prefix": "del ",
     "library": "var_list.py",
     "varRefreshCmd": "print(var_dic_list())"
    },
    "r": {
     "delete_cmd_postfix": ") ",
     "delete_cmd_prefix": "rm(",
     "library": "var_list.r",
     "varRefreshCmd": "cat(var_dic_list()) "
    }
   },
   "types_to_exclude": [
    "module",
    "function",
    "builtin_function_or_method",
    "instance",
    "_Feature"
   ],
   "window_display": false
  }
 },
 "nbformat": 4,
 "nbformat_minor": 5
}
